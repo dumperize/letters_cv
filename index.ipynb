{
 "cells": [
  {
   "cell_type": "code",
   "execution_count": 83,
   "id": "dfce38f4",
   "metadata": {},
   "outputs": [],
   "source": [
    "import tensorflow as tf\n",
    "import numpy as np\n",
    "import matplotlib.pyplot as plt\n",
    "from tensorflow.keras.layers import Conv2D, MaxPooling2D, UpSampling2D, Flatten\n",
    "from tensorflow.keras.layers import Dense, Reshape, Input, BatchNormalization\n",
    "from tensorflow.data import Dataset\n",
    "\n",
    "IMAGE_SHAPE = (128,128)"
   ]
  },
  {
   "cell_type": "code",
   "execution_count": 95,
   "id": "f5b500c0",
   "metadata": {},
   "outputs": [
    {
     "name": "stdout",
     "output_type": "stream",
     "text": [
      "Found 16025 files belonging to 33 classes.\n",
      "Using 4007 files for training.\n",
      "Found 16025 files belonging to 33 classes.\n",
      "Using 4006 files for validation.\n"
     ]
    }
   ],
   "source": [
    "train_ds = tf.keras.utils.image_dataset_from_directory(\n",
    "    'TRAIN',\n",
    "    shuffle=True,\n",
    "    image_size=IMAGE_SHAPE,\n",
    "    color_mode='grayscale',\n",
    "    validation_split=0.75,\n",
    "    subset=\"training\",\n",
    "    batch_size=128,\n",
    "    seed=1337\n",
    ")\n",
    "val_ds = tf.keras.utils.image_dataset_from_directory(\n",
    "    'TRAIN',\n",
    "    shuffle=True,\n",
    "    image_size=(80,80),\n",
    "    color_mode='grayscale',\n",
    "    validation_split=0.25,\n",
    "    subset=\"validation\",\n",
    "    batch_size=128,\n",
    "    seed=1337\n",
    ")\n"
   ]
  },
  {
   "cell_type": "code",
   "execution_count": 6,
   "id": "40ba9e44",
   "metadata": {},
   "outputs": [
    {
     "name": "stdout",
     "output_type": "stream",
     "text": [
      "['а', 'б', 'в', 'г', 'д', 'е', 'ж', 'з', 'и', 'й', 'к', 'л', 'м', 'н', 'о', 'п', 'р', 'с', 'т', 'у', 'ф', 'х', 'ц', 'ч', 'ш', 'щ', 'ъ', 'ы', 'ь', 'э', 'ю', 'я', 'ё']\n"
     ]
    }
   ],
   "source": [
    "class_names = train_ds.class_names\n",
    "print(class_names)"
   ]
  },
  {
   "cell_type": "code",
   "execution_count": 337,
   "id": "c63d6744",
   "metadata": {},
   "outputs": [],
   "source": [
    "train_ds_denoiser = train_ds.map(lambda x, y: (x, x))\n",
    "val_ds_denoiser = val_ds.map(lambda x, y: (x, x))"
   ]
  },
  {
   "cell_type": "code",
   "execution_count": 338,
   "id": "344c7ed5",
   "metadata": {},
   "outputs": [],
   "source": [
    "def deep_conv_ae(enc_dim1 = 32):\n",
    "    input_img = Input(shape=(IMAGE_SHAPE[0], IMAGE_SHAPE[1], 1))\n",
    "    \n",
    "    x = Conv2D(128, (7, 7), activation='relu', padding='same')(input_img)\n",
    "    x = MaxPooling2D((2, 2), padding='same')(x)\n",
    "    x = Conv2D(32, (3, 3), activation='relu', padding='same')(x)\n",
    "    x = MaxPooling2D((2, 2), padding='same')(x)\n",
    "    encoded = Conv2D(1, (enc_dim1, enc_dim1), activation='relu', padding='same')(x)\n",
    "    \n",
    "    input_encoded = Input(shape=(enc_dim1, enc_dim1, 1))\n",
    "    x = Conv2D(32, (7, 7), activation='relu', padding='same')(input_encoded)\n",
    "    x = UpSampling2D((2, 2))(x)\n",
    "    x = Conv2D(128, (3, 3), activation='relu', padding='same')(x)\n",
    "    x = UpSampling2D((2, 2))(x)\n",
    "    decoded = Conv2D(1, (7, 7), activation='sigmoid', padding='same')(x)\n",
    "    \n",
    "    encoder = tf.keras.Model(input_img, encoded, name=\"encoder\")\n",
    "    decoder = tf.keras.Model(input_encoded, decoded, name=\"decoder\")\n",
    "    autoencoder = tf.keras.Model(input_img, decoder(encoder(input_img)), name=\"autoencoder\")\n",
    "    return encoder, decoder, autoencoder"
   ]
  },
  {
   "cell_type": "code",
   "execution_count": 339,
   "id": "fe0f0581",
   "metadata": {},
   "outputs": [
    {
     "name": "stdout",
     "output_type": "stream",
     "text": [
      "Model: \"encoder\"\n",
      "_________________________________________________________________\n",
      " Layer (type)                Output Shape              Param #   \n",
      "=================================================================\n",
      " input_9 (InputLayer)        [(None, 128, 128, 1)]     0         \n",
      "                                                                 \n",
      " conv2d_45 (Conv2D)          (None, 128, 128, 128)     6400      \n",
      "                                                                 \n",
      " max_pooling2d_29 (MaxPoolin  (None, 64, 64, 128)      0         \n",
      " g2D)                                                            \n",
      "                                                                 \n",
      " conv2d_46 (Conv2D)          (None, 64, 64, 32)        36896     \n",
      "                                                                 \n",
      " max_pooling2d_30 (MaxPoolin  (None, 32, 32, 32)       0         \n",
      " g2D)                                                            \n",
      "                                                                 \n",
      " conv2d_47 (Conv2D)          (None, 32, 32, 1)         32769     \n",
      "                                                                 \n",
      "=================================================================\n",
      "Total params: 76,065\n",
      "Trainable params: 76,065\n",
      "Non-trainable params: 0\n",
      "_________________________________________________________________\n",
      "Model: \"decoder\"\n",
      "_________________________________________________________________\n",
      " Layer (type)                Output Shape              Param #   \n",
      "=================================================================\n",
      " input_10 (InputLayer)       [(None, 32, 32, 1)]       0         \n",
      "                                                                 \n",
      " conv2d_48 (Conv2D)          (None, 32, 32, 32)        1600      \n",
      "                                                                 \n",
      " up_sampling2d_8 (UpSampling  (None, 64, 64, 32)       0         \n",
      " 2D)                                                             \n",
      "                                                                 \n",
      " conv2d_49 (Conv2D)          (None, 64, 64, 128)       36992     \n",
      "                                                                 \n",
      " up_sampling2d_9 (UpSampling  (None, 128, 128, 128)    0         \n",
      " 2D)                                                             \n",
      "                                                                 \n",
      " conv2d_50 (Conv2D)          (None, 128, 128, 1)       6273      \n",
      "                                                                 \n",
      "=================================================================\n",
      "Total params: 44,865\n",
      "Trainable params: 44,865\n",
      "Non-trainable params: 0\n",
      "_________________________________________________________________\n"
     ]
    }
   ],
   "source": [
    "c_encoder, c_decoder, conv_ae = deep_conv_ae()\n",
    "c_encoder.summary()\n",
    "c_decoder.summary()"
   ]
  },
  {
   "cell_type": "code",
   "execution_count": null,
   "id": "62538142",
   "metadata": {},
   "outputs": [
    {
     "name": "stdout",
     "output_type": "stream",
     "text": [
      "Epoch 1/50\n"
     ]
    },
    {
     "name": "stderr",
     "output_type": "stream",
     "text": [
      "2022-01-28 11:56:54.859940: W tensorflow/core/framework/cpu_allocator_impl.cc:82] Allocation of 1073741824 exceeds 10% of free system memory.\n"
     ]
    }
   ],
   "source": [
    "conv_ae.compile(optimizer='adam', loss='binary_crossentropy', metrics=['accuracy'])\n",
    "history_c = conv_ae.fit(train_ds_denoiser,\n",
    " epochs=50,\n",
    " batch_size=128,\n",
    " shuffle=True,\n",
    "#  validation_data=val_ds_denoiser, \n",
    " verbose=1)"
   ]
  },
  {
   "cell_type": "code",
   "execution_count": 85,
   "id": "34de1c39",
   "metadata": {},
   "outputs": [],
   "source": [
    "def crop_white_space(img):\n",
    "    def allWhiteRow(row):\n",
    "        return all(el[0] > 120 for el in row)\n",
    "    def allWhiteColumn(index, img): \n",
    "        return all(el[index][0] >120 for el in img)\n",
    "    \n",
    "    start_column = 0\n",
    "    while(allWhiteColumn(start_column, img)): start_column += 1\n",
    "\n",
    "    end_column = img.shape[0] - 1\n",
    "    while(allWhiteColumn(end_column, img)): end_column -= 1\n",
    "    \n",
    "    start_row = 0\n",
    "    while(allWhiteRow(img[start_row])): start_row += 1\n",
    "        \n",
    "    end_row = img.shape[1] - 1\n",
    "    while(allWhiteRow(img[end_row])): end_row -= 1\n",
    "        \n",
    "#     print(start_column, end_column, start_row, end_row)\n",
    "    \n",
    "    pad = 5\n",
    "    \n",
    "    img = tf.image.crop_to_bounding_box(\n",
    "        img, \n",
    "        start_row - pad if start_row - pad > 0 else 0, \n",
    "        start_column - pad if start_column - pad > 0 else 0, \n",
    "        end_row - start_row + 2* pad if end_row + pad < 128 else end_row - start_row, \n",
    "        end_column - start_column +2* pad if end_column + pad < 128 else end_column - start_column)\n",
    "    img = tf.image.resize_with_pad(img, 80, 80)\n",
    "    return img"
   ]
  },
  {
   "cell_type": "code",
   "execution_count": 87,
   "id": "da13d3aa",
   "metadata": {},
   "outputs": [],
   "source": [
    "train_ds_center = train_ds.as_numpy_iterator()\n",
    "new_images = []\n",
    "new_y = []\n",
    "for batch,y in train_ds_center:\n",
    "    new_img = [crop_white_space(img) for img in batch]\n",
    "    new_images.append(new_img)\n",
    "    new_y.append(y)"
   ]
  },
  {
   "cell_type": "code",
   "execution_count": 88,
   "id": "84265b99",
   "metadata": {},
   "outputs": [
    {
     "data": {
      "text/plain": [
       "<TensorSliceDataset element_spec=(TensorSpec(shape=(128, 80, 80, 1), dtype=tf.float32, name=None), TensorSpec(shape=(128,), dtype=tf.int32, name=None))>"
      ]
     },
     "execution_count": 88,
     "metadata": {},
     "output_type": "execute_result"
    }
   ],
   "source": [
    "dataset = Dataset.from_tensor_slices((new_images[:30], new_y[:30]))  \n",
    "dataset"
   ]
  },
  {
   "cell_type": "code",
   "execution_count": 71,
   "id": "bac1c059",
   "metadata": {},
   "outputs": [
    {
     "name": "stdout",
     "output_type": "stream",
     "text": [
      "36 110 49 96\n",
      "29 79 70 111\n",
      "41 97 30 94\n",
      "53 104 47 116\n",
      "27 85 53 101\n",
      "57 82 60 101\n",
      "66 109 83 111\n",
      "34 76 58 108\n",
      "53 89 52 89\n"
     ]
    },
    {
     "data": {
      "image/png": "[encoded data removed]",
      "text/plain": [
       "<Figure size 720x720 with 18 Axes>"
      ]
     },
     "metadata": {
      "needs_background": "light"
     },
     "output_type": "display_data"
    }
   ],
   "source": [
    "plt.figure(figsize=(10, 10))\n",
    "for images, labels in train_ds.take(1):\n",
    "    for i in range(9):\n",
    "        ax = plt.subplot(9, 9, 3*i + 1)\n",
    "        im = crop_white_space(images[i])\n",
    "        plt.imshow(im.numpy().astype(\"uint8\"))\n",
    "        plt.title(class_names[labels[i]])\n",
    "        plt.axis(\"off\")\n",
    "        ax = plt.subplot(9, 9, 3*i + 2)\n",
    "        plt.imshow(images[i].numpy().astype(\"uint8\"))\n",
    "        plt.title(class_names[labels[i]])\n",
    "        plt.axis(\"off\")\n",
    "        \n",
    "#         m = tf.math.greater(images[i], tf.constant([64.0]))\n",
    "# #         erosion = -tf.nn.max_pool3d(~m, ksize=(5, 5, 1), padding='SAME',strides=1, name='erosion3D')\n",
    "#         imm = np.bitwise_or(images[i].numpy().astype(\"uint8\"), m)\n",
    "# #         print(imm)\n",
    "#         imm = crop_white_space(imm)\n",
    "#         ax = plt.subplot(9, 9, 3*i + 3)\n",
    "#         plt.imshow(imm)\n",
    "#         plt.title(class_names[labels[i]])\n",
    "#         plt.axis(\"off\")\n",
    "#         erosion = -tf.nn.max_pool2d(-x, ksize=(5, 5), stride=1, name='erosion2D')\n",
    "#         kernel = np.ones((5, 5), np.uint8)\n",
    "#         erode = cv2.erode(thresh, kernel, iterations = 1)\n",
    "#         result = cv2.bitwise_or(img, erode)"
   ]
  },
  {
   "cell_type": "code",
   "execution_count": 89,
   "id": "b0b95a74",
   "metadata": {},
   "outputs": [],
   "source": [
    "preprocessing_layers = [\n",
    "    tf.keras.layers.experimental.preprocessing.Rescaling(1./255, input_shape=(80,80, 1))\n",
    "]"
   ]
  },
  {
   "cell_type": "code",
   "execution_count": 104,
   "id": "4d5c65ee",
   "metadata": {},
   "outputs": [],
   "source": [
    "def conv_2d_pooling_layers(filters):\n",
    "    return [\n",
    "        tf.keras.layers.Conv2D(\n",
    "            filters,\n",
    "            (2,2),\n",
    "            activation='relu',\n",
    "            padding='same'\n",
    "        ),\n",
    "        tf.keras.layers.MaxPooling2D()\n",
    "    ]\n",
    "core_layers = \\\n",
    "    conv_2d_pooling_layers(32) + \\\n",
    "    conv_2d_pooling_layers(64) + \\\n",
    "    conv_2d_pooling_layers(128)"
   ]
  },
  {
   "cell_type": "code",
   "execution_count": 105,
   "id": "922bdc2f",
   "metadata": {},
   "outputs": [],
   "source": [
    "dense_layers = [\n",
    "    tf.keras.layers.Flatten(),\n",
    "    tf.keras.layers.Dense(256, activation='relu'),\n",
    "    tf.keras.layers.Dense(33)\n",
    "]"
   ]
  },
  {
   "cell_type": "code",
   "execution_count": 106,
   "id": "f04ba8b8",
   "metadata": {},
   "outputs": [
    {
     "name": "stdout",
     "output_type": "stream",
     "text": [
      "Model: \"sequential_4\"\n",
      "_________________________________________________________________\n",
      " Layer (type)                Output Shape              Param #   \n",
      "=================================================================\n",
      " rescaling_2 (Rescaling)     (None, 80, 80, 1)         0         \n",
      "                                                                 \n",
      " conv2d_9 (Conv2D)           (None, 80, 80, 32)        160       \n",
      "                                                                 \n",
      " max_pooling2d_9 (MaxPooling  (None, 40, 40, 32)       0         \n",
      " 2D)                                                             \n",
      "                                                                 \n",
      " conv2d_10 (Conv2D)          (None, 40, 40, 64)        8256      \n",
      "                                                                 \n",
      " max_pooling2d_10 (MaxPoolin  (None, 20, 20, 64)       0         \n",
      " g2D)                                                            \n",
      "                                                                 \n",
      " conv2d_11 (Conv2D)          (None, 20, 20, 128)       32896     \n",
      "                                                                 \n",
      " max_pooling2d_11 (MaxPoolin  (None, 10, 10, 128)      0         \n",
      " g2D)                                                            \n",
      "                                                                 \n",
      " flatten_3 (Flatten)         (None, 12800)             0         \n",
      "                                                                 \n",
      " dense_6 (Dense)             (None, 256)               3277056   \n",
      "                                                                 \n",
      " dense_7 (Dense)             (None, 33)                8481      \n",
      "                                                                 \n",
      "=================================================================\n",
      "Total params: 3,326,849\n",
      "Trainable params: 3,326,849\n",
      "Non-trainable params: 0\n",
      "_________________________________________________________________\n"
     ]
    }
   ],
   "source": [
    "model = tf.keras.Sequential(\n",
    "    preprocessing_layers +\n",
    "    core_layers +\n",
    "    dense_layers\n",
    ")\n",
    "model.summary()"
   ]
  },
  {
   "cell_type": "code",
   "execution_count": 107,
   "id": "0e9be1f8",
   "metadata": {},
   "outputs": [],
   "source": [
    "loss = tf.keras.losses.SparseCategoricalCrossentropy(from_logits=True)\n",
    "model.compile(\n",
    "    optimizer='adam',\n",
    "    loss=loss,\n",
    "    metrics=['accuracy']\n",
    ")"
   ]
  },
  {
   "cell_type": "code",
   "execution_count": null,
   "id": "ce6d844b",
   "metadata": {},
   "outputs": [
    {
     "name": "stdout",
     "output_type": "stream",
     "text": [
      "Epoch 1/20\n",
      "30/30 [==============================] - 8s 246ms/step - loss: 3.2424 - accuracy: 0.1169 - val_loss: 3.6900 - val_accuracy: 0.0397\n",
      "Epoch 2/20\n",
      "30/30 [==============================] - 8s 256ms/step - loss: 2.1583 - accuracy: 0.4018 - val_loss: 4.1543 - val_accuracy: 0.0449\n",
      "Epoch 3/20\n",
      "30/30 [==============================] - 8s 257ms/step - loss: 1.5033 - accuracy: 0.5911 - val_loss: 4.2085 - val_accuracy: 0.0509\n",
      "Epoch 4/20\n",
      "30/30 [==============================] - 8s 259ms/step - loss: 1.1536 - accuracy: 0.6888 - val_loss: 4.2938 - val_accuracy: 0.0587\n",
      "Epoch 5/20\n",
      "30/30 [==============================] - 8s 263ms/step - loss: 0.8901 - accuracy: 0.7552 - val_loss: 4.2407 - val_accuracy: 0.0654\n",
      "Epoch 6/20\n",
      "30/30 [==============================] - 8s 265ms/step - loss: 0.6736 - accuracy: 0.8250 - val_loss: 4.2774 - val_accuracy: 0.0739\n",
      "Epoch 7/20\n",
      "30/30 [==============================] - 8s 260ms/step - loss: 0.5062 - accuracy: 0.8667 - val_loss: 4.6848 - val_accuracy: 0.0736\n",
      "Epoch 8/20\n",
      "30/30 [==============================] - 8s 259ms/step - loss: 0.3958 - accuracy: 0.8964 - val_loss: 5.1225 - val_accuracy: 0.0724\n",
      "Epoch 9/20\n",
      "30/30 [==============================] - 9s 312ms/step - loss: 0.3477 - accuracy: 0.9021 - val_loss: 4.4424 - val_accuracy: 0.0859\n",
      "Epoch 10/20\n",
      "30/30 [==============================] - 9s 292ms/step - loss: 0.2699 - accuracy: 0.9201 - val_loss: 4.5793 - val_accuracy: 0.0849\n",
      "Epoch 11/20\n",
      "30/30 [==============================] - 8s 268ms/step - loss: 0.2267 - accuracy: 0.9341 - val_loss: 4.7210 - val_accuracy: 0.0796\n",
      "Epoch 12/20\n",
      "30/30 [==============================] - 9s 293ms/step - loss: 0.1676 - accuracy: 0.9471 - val_loss: 5.5214 - val_accuracy: 0.0721\n",
      "Epoch 13/20\n",
      "30/30 [==============================] - 8s 258ms/step - loss: 0.1433 - accuracy: 0.9589 - val_loss: 5.5306 - val_accuracy: 0.0756\n",
      "Epoch 14/20\n",
      "30/30 [==============================] - 8s 256ms/step - loss: 0.0936 - accuracy: 0.9734 - val_loss: 6.3628 - val_accuracy: 0.0781\n",
      "Epoch 15/20\n",
      "30/30 [==============================] - 8s 272ms/step - loss: 0.0437 - accuracy: 0.9909 - val_loss: 6.2669 - val_accuracy: 0.0934\n",
      "Epoch 16/20\n",
      "30/30 [==============================] - 8s 268ms/step - loss: 0.0265 - accuracy: 0.9958 - val_loss: 6.6622 - val_accuracy: 0.0804\n",
      "Epoch 17/20\n",
      "30/30 [==============================] - 8s 280ms/step - loss: 0.0206 - accuracy: 0.9969 - val_loss: 6.7519 - val_accuracy: 0.0836\n",
      "Epoch 18/20\n",
      "30/30 [==============================] - 8s 274ms/step - loss: 0.0257 - accuracy: 0.9951 - val_loss: 6.6368 - val_accuracy: 0.0859\n",
      "Epoch 19/20\n",
      "24/30 [=======================>......] - ETA: 1s - loss: 0.0267 - accuracy: 0.9925"
     ]
    }
   ],
   "source": [
    "history = model.fit(\n",
    "    dataset,\n",
    "    validation_data = val_ds,\n",
    "    epochs = 20\n",
    ")"
   ]
  },
  {
   "cell_type": "code",
   "execution_count": 66,
   "id": "e1956182",
   "metadata": {},
   "outputs": [
    {
     "name": "stderr",
     "output_type": "stream",
     "text": [
      "2022-01-27 12:27:27.002284: W tensorflow/python/util/util.cc:368] Sets are not currently considered sequences, but this may change in the future, so consider avoiding using them.\n"
     ]
    },
    {
     "name": "stdout",
     "output_type": "stream",
     "text": [
      "INFO:tensorflow:Assets written to: weight/20-epoch/assets\n"
     ]
    }
   ],
   "source": [
    "model.save('weight/20-epoch')"
   ]
  },
  {
   "cell_type": "code",
   "execution_count": null,
   "id": "fc56952f",
   "metadata": {},
   "outputs": [],
   "source": []
  }
 ],
 "metadata": {
  "kernelspec": {
   "display_name": "Python 3 (ipykernel)",
   "language": "python",
   "name": "python3"
  },
  "language_info": {
   "codemirror_mode": {
    "name": "ipython",
    "version": 3
   },
   "file_extension": ".py",
   "mimetype": "text/x-python",
   "name": "python",
   "nbconvert_exporter": "python",
   "pygments_lexer": "ipython3",
   "version": "3.10.1"
  }
 },
 "nbformat": 4,
 "nbformat_minor": 5
}
